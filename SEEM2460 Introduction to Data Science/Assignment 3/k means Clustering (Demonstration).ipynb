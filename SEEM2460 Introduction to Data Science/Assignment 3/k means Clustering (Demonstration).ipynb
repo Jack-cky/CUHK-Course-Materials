{
  "nbformat": 4,
  "nbformat_minor": 0,
  "metadata": {
    "colab": {
      "name": "K-means-Clustering-demonstration.ipynb",
      "provenance": []
    },
    "kernelspec": {
      "name": "python3",
      "display_name": "Python 3"
    }
  },
  "cells": [
    {
      "cell_type": "markdown",
      "metadata": {
        "id": "Aimta3THhHV9",
        "colab_type": "text"
      },
      "source": [
        "There are Four steps in K-means clustering:\n",
        "1. Initializsation: assign K initial centroids.\n",
        "2. Assignment: K clusters are created by associating each observation with the nearest centroid.\n",
        "3. Update: The centroid of the clusters becomes the new centoid.\n",
        "3. Stop or not: if not convergence, come back to step-2."
      ]
    },
    {
      "cell_type": "code",
      "metadata": {
        "id": "vcyq0CIug7Rp",
        "colab_type": "code",
        "colab": {}
      },
      "source": [
        "# import necessary libraries\n",
        "import pandas as pd\n",
        "import numpy as np\n",
        "import copy\n",
        "import matplotlib.pyplot as plt\n",
        "%matplotlib inline"
      ],
      "execution_count": 0,
      "outputs": []
    },
    {
      "cell_type": "code",
      "metadata": {
        "id": "hl4aONh5iOTw",
        "colab_type": "code",
        "outputId": "3d07aba5-eb25-4441-8950-7c6141d88726",
        "colab": {
          "base_uri": "https://localhost:8080/",
          "height": 513
        }
      },
      "source": [
        "# 5 customers: A, B, C, D and E (Please refer to page-42 of week-8 slides)\n",
        "customers = ['A', 'B', 'C', 'D', 'E']\n",
        "df = pd.DataFrame({\n",
        "    'income': [1, 2, 5, 4, 4],\n",
        "    'age':    [2, 2, 4, 4, 5]   \n",
        "})\n",
        "\n",
        "k = 2\n",
        "# Step-1: Assign 2 initail centroids.\n",
        "centroids = {\n",
        "    1: [1, 2],   # Point A\n",
        "    2: [2, 2],   # Point B\n",
        "}\n",
        "\n",
        "# visualize\n",
        "fig = plt.figure(figsize=(8, 8))\n",
        "plt.scatter(df['income'], df['age'], color='k')\n",
        "col_map = {1: 'r', 2: 'g'}\n",
        "for i in centroids.keys():\n",
        "  plt.scatter(*centroids[i], color=col_map[i])\n",
        "for i, cus_name in enumerate(customers):\n",
        "  plt.annotate(cus_name,\n",
        "               xy=(df['income'][i], df['age'][i]), ha='right', va='bottom'\n",
        "  )\n",
        "plt.xlim(0, 6)\n",
        "plt.ylim(1, 6)\n",
        "plt.title('The Plot of Customers')\n",
        "plt.xlabel('Income')\n",
        "plt.ylabel('Age')\n",
        "plt.show()"
      ],
      "execution_count": 0,
      "outputs": [
        {
          "output_type": "display_data",
          "data": {
            "image/png": "[encoded data removed]",
            "text/plain": [
              "<Figure size 576x576 with 1 Axes>"
            ]
          },
          "metadata": {
            "tags": []
          }
        }
      ]
    },
    {
      "cell_type": "code",
      "metadata": {
        "id": "86iL_cu-kYDo",
        "colab_type": "code",
        "outputId": "1547869a-173f-4f69-bcd7-eb6e3afaaecf",
        "colab": {
          "base_uri": "https://localhost:8080/",
          "height": 623
        }
      },
      "source": [
        "# Step-2: Assignment Stage\n",
        "def assignment(df, centroids):\n",
        "  for i in centroids.keys():\n",
        "    #  Euclidean distance: sqrt((x1 - x2)^2 - (y1 - y2)^2)\n",
        "    df[f'distance_from_{i}'] = (\n",
        "        np.sqrt(\n",
        "            (df['income'] - centroids[i][0])**2\n",
        "          + (df['age'] - centroids[i][1])**2 \n",
        "        )\n",
        "    )\n",
        "\n",
        "  centroid_distance_cols = [f'distance_from_{i}' for i in centroids.keys()]\n",
        "  df['closest'] = df.loc[:, centroid_distance_cols].idxmin(axis=1)\n",
        "  df['closest'] = df['closest'].map(lambda x: int(x.lstrip('distance_from_')))\n",
        "  df['color'] = df['closest'].map(lambda x: col_map[x])\n",
        "  return df\n",
        "\n",
        "df = assignment(df, centroids)\n",
        "print(df.head())\n",
        "\n",
        "# visualize\n",
        "fig = plt.figure(figsize=(8, 8))\n",
        "plt.scatter(df['income'], df['age'], color=df['color'], alpha=0.3)\n",
        "for i in centroids.keys():\n",
        "  plt.scatter(*centroids[i], color=col_map[i])\n",
        "for i, cus_name in enumerate(customers):\n",
        "  plt.annotate(cus_name,\n",
        "               xy=(df['income'][i], df['age'][i]), ha='right', va='bottom'\n",
        "  )\n",
        "plt.xlim(0, 6)\n",
        "plt.ylim(1, 6)\n",
        "plt.title('The Plot of Customers')\n",
        "plt.xlabel('Income')\n",
        "plt.ylabel('Age')\n",
        "plt.show()"
      ],
      "execution_count": 0,
      "outputs": [
        {
          "output_type": "stream",
          "text": [
            "   income  age  distance_from_1  distance_from_2  closest color\n",
            "0       1    2         0.000000         1.000000        1     r\n",
            "1       2    2         1.000000         0.000000        2     g\n",
            "2       5    4         4.472136         3.605551        2     g\n",
            "3       4    4         3.605551         2.828427        2     g\n",
            "4       4    5         4.242641         3.605551        2     g\n"
          ],
          "name": "stdout"
        },
        {
          "output_type": "display_data",
          "data": {
            "image/png": "[encoded data removed]",
            "text/plain": [
              "<Figure size 576x576 with 1 Axes>"
            ]
          },
          "metadata": {
            "tags": []
          }
        }
      ]
    },
    {
      "cell_type": "code",
      "metadata": {
        "id": "5CJm3jvusaAC",
        "colab_type": "code",
        "outputId": "b20a2d72-5c6d-4db2-aa40-04e1b01ca208",
        "colab": {
          "base_uri": "https://localhost:8080/",
          "height": 513
        }
      },
      "source": [
        "# Step-3: Update Stage\n",
        "old_centroids = copy.deepcopy(centroids)\n",
        "\n",
        "def update(centroids):\n",
        "    for i in centroids.keys():\n",
        "        centroids[i][0] = np.mean(df[df['closest'] == i]['income'])\n",
        "        centroids[i][1] = np.mean(df[df['closest'] == i]['age'])\n",
        "    return centroids\n",
        "\n",
        "centroids = update(centroids)\n",
        "\n",
        "# visualize\n",
        "fig = plt.figure(figsize=(8, 8))\n",
        "ax = plt.axes()\n",
        "plt.scatter(df['income'], df['age'], color=df['color'], alpha=0.3)\n",
        "for i in centroids.keys():\n",
        "  plt.scatter(*centroids[i], color=col_map[i])\n",
        "for i, cus_name in enumerate(customers):\n",
        "  plt.annotate(cus_name,\n",
        "               xy=(df['income'][i], df['age'][i]), ha='right', va='bottom'\n",
        "  )\n",
        "plt.xlim(0, 6)\n",
        "plt.ylim(1, 6)\n",
        "plt.title('The Plot of Customers')\n",
        "plt.xlabel('Income')\n",
        "plt.ylabel('Age')\n",
        "for i in old_centroids.keys():\n",
        "    old_x = old_centroids[i][0]\n",
        "    old_y = old_centroids[i][1]\n",
        "    dx = (centroids[i][0] - old_centroids[i][0]) * 0.75\n",
        "    dy = (centroids[i][1] - old_centroids[i][1]) * 0.75\n",
        "    ax.arrow(old_x, old_y, dx, dy, head_width=0.1, head_length=0.1, fc=col_map[i], ec=col_map[i])\n",
        "plt.show()\n"
      ],
      "execution_count": 0,
      "outputs": [
        {
          "output_type": "display_data",
          "data": {
            "image/png": "[encoded data removed]",
            "text/plain": [
              "<Figure size 576x576 with 1 Axes>"
            ]
          },
          "metadata": {
            "tags": []
          }
        }
      ]
    },
    {
      "cell_type": "code",
      "metadata": {
        "id": "buBNWTchun_8",
        "colab_type": "code",
        "outputId": "565a16d6-29e9-4568-8546-ac78f1667e8b",
        "colab": {
          "base_uri": "https://localhost:8080/",
          "height": 623
        }
      },
      "source": [
        "# Repeat Assigment Stage\n",
        "\n",
        "df = assignment(df, centroids)\n",
        "print(df.head())\n",
        "\n",
        "# visualize\n",
        "fig = plt.figure(figsize=(8, 8))\n",
        "plt.scatter(df['income'], df['age'], color=df['color'], alpha=0.3)\n",
        "for i in centroids.keys():\n",
        "  plt.scatter(*centroids[i], color=col_map[i])\n",
        "for i, cus_name in enumerate(customers):\n",
        "  plt.annotate(cus_name,\n",
        "               xy=(df['income'][i], df['age'][i]), ha='right', va='bottom'\n",
        "  )\n",
        "plt.xlim(0, 6)\n",
        "plt.ylim(1, 6)\n",
        "plt.title('The Plot of Customers')\n",
        "plt.xlabel('Income')\n",
        "plt.ylabel('Age')\n",
        "plt.show()"
      ],
      "execution_count": 0,
      "outputs": [
        {
          "output_type": "stream",
          "text": [
            "   income  age  distance_from_1  distance_from_2  closest color\n",
            "0       1    2         0.000000         3.259601        1     r\n",
            "1       2    2         1.000000         2.474874        1     r\n",
            "2       5    4         4.472136         1.274755        2     g\n",
            "3       4    4         3.605551         0.353553        2     g\n",
            "4       4    5         4.242641         1.274755        2     g\n"
          ],
          "name": "stdout"
        },
        {
          "output_type": "display_data",
          "data": {
            "image/png": "[encoded data removed]",
            "text/plain": [
              "<Figure size 576x576 with 1 Axes>"
            ]
          },
          "metadata": {
            "tags": []
          }
        }
      ]
    },
    {
      "cell_type": "code",
      "metadata": {
        "id": "4X9AgJ6yu97l",
        "colab_type": "code",
        "outputId": "784d68d4-e877-43d7-8d74-07fae32987dc",
        "colab": {
          "base_uri": "https://localhost:8080/",
          "height": 513
        }
      },
      "source": [
        "old_centroids = copy.deepcopy(centroids)\n",
        "\n",
        "centroids = update(centroids)\n",
        "\n",
        "# visualize\n",
        "fig = plt.figure(figsize=(8, 8))\n",
        "ax = plt.axes()\n",
        "plt.scatter(df['income'], df['age'], color=df['color'], alpha=0.3)\n",
        "for i in centroids.keys():\n",
        "  plt.scatter(*centroids[i], color=col_map[i])\n",
        "for i, cus_name in enumerate(customers):\n",
        "  plt.annotate(cus_name,\n",
        "               xy=(df['income'][i], df['age'][i]), ha='right', va='bottom'\n",
        "  )\n",
        "plt.xlim(0, 6)\n",
        "plt.ylim(1, 6)\n",
        "plt.title('The Plot of Customers')\n",
        "plt.xlabel('Income')\n",
        "plt.ylabel('Age')\n",
        "for i in old_centroids.keys():\n",
        "    old_x = old_centroids[i][0]\n",
        "    old_y = old_centroids[i][1]\n",
        "    dx = (centroids[i][0] - old_centroids[i][0]) * 0.75\n",
        "    dy = (centroids[i][1] - old_centroids[i][1]) * 0.75\n",
        "    ax.arrow(old_x, old_y, dx, dy, head_width=0.1, head_length=0.1, fc=col_map[i], ec=col_map[i])\n",
        "plt.show()\n"
      ],
      "execution_count": 0,
      "outputs": [
        {
          "output_type": "display_data",
          "data": {
            "image/png": "[encoded data removed]",
            "text/plain": [
              "<Figure size 576x576 with 1 Axes>"
            ]
          },
          "metadata": {
            "tags": []
          }
        }
      ]
    },
    {
      "cell_type": "code",
      "metadata": {
        "id": "R0x285aqvkpR",
        "colab_type": "code",
        "outputId": "3e81ea4e-ff4e-4d06-fc59-e015314e4255",
        "colab": {
          "base_uri": "https://localhost:8080/",
          "height": 623
        }
      },
      "source": [
        "# Repeat Assigment Stage\n",
        "\n",
        "df = assignment(df, centroids)\n",
        "print(df.head())\n",
        "\n",
        "# visualize\n",
        "fig = plt.figure(figsize=(8, 8))\n",
        "plt.scatter(df['income'], df['age'], color=df['color'], alpha=0.3)\n",
        "for i in centroids.keys():\n",
        "  plt.scatter(*centroids[i], color=col_map[i])\n",
        "for i, cus_name in enumerate(customers):\n",
        "  plt.annotate(cus_name,\n",
        "               xy=(df['income'][i], df['age'][i]), ha='right', va='bottom'\n",
        "  )\n",
        "plt.xlim(0, 6)\n",
        "plt.ylim(1, 6)\n",
        "plt.title('The Plot of Customers')\n",
        "plt.xlabel('Income')\n",
        "plt.ylabel('Age')\n",
        "plt.show()"
      ],
      "execution_count": 0,
      "outputs": [
        {
          "output_type": "stream",
          "text": [
            "   income  age  distance_from_1  distance_from_2  closest color\n",
            "0       1    2         0.500000         4.068852        1     r\n",
            "1       2    2         0.500000         3.299832        1     r\n",
            "2       5    4         4.031129         0.745356        2     g\n",
            "3       4    4         3.201562         0.471405        2     g\n",
            "4       4    5         3.905125         0.745356        2     g\n"
          ],
          "name": "stdout"
        },
        {
          "output_type": "display_data",
          "data": {
            "image/png": "[encoded data removed]",
            "text/plain": [
              "<Figure size 576x576 with 1 Axes>"
            ]
          },
          "metadata": {
            "tags": []
          }
        }
      ]
    },
    {
      "cell_type": "markdown",
      "metadata": {
        "id": "6-U1pfthvwZZ",
        "colab_type": "text"
      },
      "source": [
        "Stop due to no new assignment Membership in each cluster no longer change"
      ]
    }
  ]
}