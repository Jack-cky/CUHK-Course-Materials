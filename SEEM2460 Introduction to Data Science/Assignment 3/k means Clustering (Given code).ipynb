{
  "nbformat": 4,
  "nbformat_minor": 0,
  "metadata": {
    "colab": {
      "name": "Assignment3-K-means-Clustering.ipynb",
      "provenance": [],
      "collapsed_sections": []
    },
    "kernelspec": {
      "name": "python3",
      "display_name": "Python 3"
    }
  },
  "cells": [
    {
      "cell_type": "markdown",
      "metadata": {
        "id": "Aimta3THhHV9",
        "colab_type": "text"
      },
      "source": [
        "There are Four steps in K-means clustering:\n",
        "1. Initializsation: assign K initial centroids.\n",
        "2. Assignment: K clusters are created by associating each observation with the nearest centroid.\n",
        "3. Update: The centroid of the clusters becomes the new centoid.\n",
        "3. Stop or not: if not convergence, come back to step-2."
      ]
    },
    {
      "cell_type": "markdown",
      "metadata": {
        "id": "4KB6X2WZFB5I",
        "colab_type": "text"
      },
      "source": [
        "Please use K-means algorithm and Euclidean distance to cluster the 9 customers into 3 clusters. The initial centroids MUST be A, D, and H. \n",
        "Please only write codes in the fenced parts by #."
      ]
    },
    {
      "cell_type": "code",
      "metadata": {
        "id": "vcyq0CIug7Rp",
        "colab_type": "code",
        "colab": {}
      },
      "source": [
        "# import necessary libraries\n",
        "import pandas as pd\n",
        "import numpy as np\n",
        "import copy\n",
        "import matplotlib.pyplot as plt\n",
        "%matplotlib inline"
      ],
      "execution_count": 0,
      "outputs": []
    },
    {
      "cell_type": "code",
      "metadata": {
        "id": "86iL_cu-kYDo",
        "colab_type": "code",
        "colab": {}
      },
      "source": [
        "## Define functions\n",
        "# Assignment Stage\n",
        "def assignment(df, centroids):\n",
        "  for i in centroids.keys():\n",
        "    #  Euclidean distance: sqrt((x1 - x2)^2 - (y1 - y2)^2)\n",
        "    df[f'distance_from_{i}'] = (\n",
        "        np.sqrt(\n",
        "            (df['income'] - centroids[i][0])**2\n",
        "          + (df['age'] - centroids[i][1])**2 \n",
        "        )\n",
        "    )\n",
        "\n",
        "  centroid_distance_cols = [f'distance_from_{i}' for i in centroids.keys()]\n",
        "  df['closest'] = df.loc[:, centroid_distance_cols].idxmin(axis=1)\n",
        "  df['closest'] = df['closest'].map(lambda x: int(x.lstrip('distance_from_')))\n",
        "  df['color'] = df['closest'].map(lambda x: col_map[x])\n",
        "  return df\n",
        "\n",
        "# Update Stage\n",
        "def update(centroids):\n",
        "    for i in centroids.keys():\n",
        "        centroids[i][0] = np.mean(df[df['closest'] == i]['income'])\n",
        "        centroids[i][1] = np.mean(df[df['closest'] == i]['age'])\n",
        "    return centroids"
      ],
      "execution_count": 0,
      "outputs": []
    },
    {
      "cell_type": "code",
      "metadata": {
        "id": "66ADWfkU2-IK",
        "colab_type": "code",
        "colab": {}
      },
      "source": [
        "# 9 customers\n",
        "customers = ['A', 'B', 'C', 'D', 'E', 'F', 'G', 'H', 'I']\n",
        "df = pd.DataFrame({\n",
        "    'income': [1, 2, 5, 4, 4, 2, 5, 6, 3],\n",
        "    'age':    [2, 2, 4, 4, 5, 3, 3, 4, 5]   \n",
        "})\n",
        "\n",
        "k = 3\n",
        "# Step-1: Assign 3 initail centroids.\n",
        "#########################################################################################################\n",
        "####################################### Please write codes here ! #######################################\n",
        "#########################################################################################################\n",
        "centroids = {\n",
        "    # Please specify three centroids below\n",
        "}\n",
        "#########################################################################################################\n",
        "#########################################################################################################\n",
        "\n",
        "# visualize\n",
        "fig = plt.figure(figsize=(8, 8))\n",
        "plt.scatter(df['income'], df['age'], color='k')\n",
        "col_map = {1: 'r', 2: 'g', 3: 'b'}\n",
        "for i in centroids.keys():\n",
        "  plt.scatter(*centroids[i], color=col_map[i])\n",
        "for i, cus_name in enumerate(customers):\n",
        "  plt.annotate(cus_name,\n",
        "               xy=(df['income'][i], df['age'][i]), ha='right', va='bottom'\n",
        "  )\n",
        "plt.xlim(0, 7)\n",
        "plt.ylim(1, 6)\n",
        "plt.title('The Plot of Customers')\n",
        "plt.xlabel('Income')\n",
        "plt.ylabel('Age')\n",
        "plt.show()"
      ],
      "execution_count": 0,
      "outputs": []
    },
    {
      "cell_type": "code",
      "metadata": {
        "id": "Ns0rrjG120IJ",
        "colab_type": "code",
        "colab": {}
      },
      "source": [
        "# Step-2: Continue until all assigned categories don't change any more\n",
        "#########################################################################################################\n",
        "####################################### Please write codes here ! #######################################\n",
        "#########################################################################################################\n",
        "df = assignment(df, centroids)\n",
        "while True:\n",
        "    closest_centroids = df['closest'].copy(deep=True)\n",
        "    # Please determine the order of update() and assignment() below, Hint: 2 lines of codes\n",
        "    \n",
        "    \n",
        "    if closest_centroids.equals(df['closest']):\n",
        "        break\n",
        "#########################################################################################################\n",
        "#########################################################################################################\n",
        "\n",
        "# visualize\n",
        "fig = plt.figure(figsize=(8, 8))\n",
        "plt.scatter(df['income'], df['age'], color=df['color'], alpha=0.3)\n",
        "for i in centroids.keys():\n",
        "  plt.scatter(*centroids[i], color=col_map[i])\n",
        "for i, cus_name in enumerate(customers):\n",
        "  plt.annotate(cus_name,\n",
        "               xy=(df['income'][i], df['age'][i]), ha='right', va='bottom'\n",
        "  )\n",
        "plt.xlim(0, 7)\n",
        "plt.ylim(1, 6)\n",
        "plt.title('The Plot of Customers')\n",
        "plt.xlabel('Income')\n",
        "plt.ylabel('Age')\n",
        "plt.show()"
      ],
      "execution_count": 0,
      "outputs": []
    }
  ]
}